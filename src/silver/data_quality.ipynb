{
 "cells": [
  {
   "cell_type": "markdown",
   "metadata": {},
   "source": [
    "Clean data\n"
   ]
  },
  {
   "cell_type": "code",
   "execution_count": null,
   "metadata": {},
   "outputs": [],
   "source": [
    "import sys\n",
    "sys.path.append(\"../..\")"
   ]
  },
  {
   "cell_type": "code",
   "execution_count": null,
   "metadata": {},
   "outputs": [],
   "source": [
    "from ydata_profiling import ProfileReport\n",
    "from sqlalchemy import text as sql_text\n",
    "from config.connect_db import ConnectDataBase\n",
    "import pandas as pd\n",
    "\n",
    "db = ConnectDataBase()\n",
    "engine = db.engine()"
   ]
  },
  {
   "cell_type": "markdown",
   "metadata": {},
   "source": [
    "Query\n"
   ]
  },
  {
   "cell_type": "code",
   "execution_count": null,
   "metadata": {},
   "outputs": [],
   "source": [
    "def query_table_dtypes(params: str) -> str:\n",
    "    return f\"\"\"       \n",
    "                SELECT column_name, data_type\n",
    "                FROM information_schema.columns\n",
    "                WHERE table_name = '{params}'\n",
    "                ORDER BY ordinal_position; \n",
    "            \"\"\"\n",
    "\n",
    "\n",
    "def query_table(params: str) -> str:\n",
    "    return f\"\"\"\n",
    "          SELECT * \n",
    "          FROM public.\"{params}\";\n",
    "         \"\"\"\n",
    "\n",
    "\n",
    "df_calendar_tdtypes = pd.read_sql(sql=sql_text(\n",
    "    query_table_dtypes(\"Calendar_Bronze\")), con=engine.connect())\n",
    "df_listing_tdtypes = pd.read_sql(sql=sql_text(\n",
    "    query_table_dtypes(\"Listing_Bronze\")), con=engine.connect())\n",
    "df_reviews_tdtypes = pd.read_sql(sql=sql_text(\n",
    "    query_table_dtypes(\"Reviews_Bronze\")), con=engine.connect())"
   ]
  },
  {
   "cell_type": "markdown",
   "metadata": {},
   "source": [
    "Results from bank tables\n"
   ]
  },
  {
   "cell_type": "code",
   "execution_count": null,
   "metadata": {},
   "outputs": [],
   "source": [
    "df_calendar_silver = pd.read_sql(sql=sql_text(\n",
    "    query_table(\"Calendar_Bronze\")), con=engine.connect())\n",
    "\n",
    "df_listing_silver = pd.read_sql(sql=sql_text(\n",
    "    query_table(\"Listing_Bronze\")), con=engine.connect())\n",
    "\n",
    "df_reviews_silver = pd.read_sql(sql=sql_text(\n",
    "    query_table(\"Reviews_Bronze\")), con=engine.connect())"
   ]
  },
  {
   "cell_type": "markdown",
   "metadata": {},
   "source": [
    "Copy Dataframe origin\n"
   ]
  },
  {
   "cell_type": "code",
   "execution_count": 60,
   "metadata": {},
   "outputs": [],
   "source": [
    "df_listing_silver_cln = df_listing_silver.copy()\n",
    "df_reviews_silver_cln = df_reviews_silver.copy()\n",
    "df_calendar_silver_cln = df_calendar_silver.copy()"
   ]
  },
  {
   "cell_type": "markdown",
   "metadata": {},
   "source": [
    "DTypes Dataframe\n"
   ]
  },
  {
   "cell_type": "code",
   "execution_count": 62,
   "metadata": {},
   "outputs": [],
   "source": [
    "dtypes = pd.DataFrame(df_listing_silver_cln.dtypes)\n",
    "df_half_one = dtypes.head(45)\n",
    "df_half_two = dtypes.iloc[45:]\n",
    "\n",
    "columns_df = pd.DataFrame(df_listing_silver_cln.select_dtypes(\n",
    "    include=['object']).dtypes, columns=['name']).reset_index()\n",
    "\n",
    "columns_df.columns = ['column_name', 'data_type']\n",
    "\n",
    "mask = df_listing_tdtypes['column_name'].isin(columns_df['column_name'])\n",
    "filtered_df = df_listing_tdtypes[mask]\n",
    "mask_text = filtered_df['data_type'] != 'text'\n",
    "filtered_df = filtered_df.loc[mask_text]['column_name'].tolist()\n",
    "\n",
    "list_float = ['price']\n",
    "\n",
    "for column in list_float:\n",
    "    df_listing_silver_cln[column] = df_listing_silver_cln[column].str.replace(\n",
    "        '$', '', regex=False).str.replace(',', '', regex=False).astype(float)\n",
    "\n",
    "for column in filtered_df:\n",
    "    df_listing_silver_cln[column] = df_listing_silver_cln[column].astype(\n",
    "        \"float\")\n",
    "\n",
    "\n",
    "dtypes = pd.DataFrame(df_listing_silver_cln.dtypes)\n",
    "df_half_one = dtypes.head(45)\n",
    "df_half_two = dtypes.iloc[45:]"
   ]
  },
  {
   "cell_type": "code",
   "execution_count": 63,
   "metadata": {},
   "outputs": [
    {
     "data": {
      "text/html": [
       "<div>\n",
       "<style scoped>\n",
       "    .dataframe tbody tr th:only-of-type {\n",
       "        vertical-align: middle;\n",
       "    }\n",
       "\n",
       "    .dataframe tbody tr th {\n",
       "        vertical-align: top;\n",
       "    }\n",
       "\n",
       "    .dataframe thead th {\n",
       "        text-align: right;\n",
       "    }\n",
       "</style>\n",
       "<table border=\"1\" class=\"dataframe\">\n",
       "  <thead>\n",
       "    <tr style=\"text-align: right;\">\n",
       "      <th></th>\n",
       "      <th>0</th>\n",
       "    </tr>\n",
       "  </thead>\n",
       "  <tbody>\n",
       "    <tr>\n",
       "      <th>listing_id</th>\n",
       "      <td>int64</td>\n",
       "    </tr>\n",
       "    <tr>\n",
       "      <th>id</th>\n",
       "      <td>int64</td>\n",
       "    </tr>\n",
       "    <tr>\n",
       "      <th>date</th>\n",
       "      <td>datetime64[ns]</td>\n",
       "    </tr>\n",
       "    <tr>\n",
       "      <th>reviewer_id</th>\n",
       "      <td>int64</td>\n",
       "    </tr>\n",
       "    <tr>\n",
       "      <th>reviewer_name</th>\n",
       "      <td>object</td>\n",
       "    </tr>\n",
       "  </tbody>\n",
       "</table>\n",
       "</div>"
      ],
      "text/plain": [
       "                            0\n",
       "listing_id              int64\n",
       "id                      int64\n",
       "date           datetime64[ns]\n",
       "reviewer_id             int64\n",
       "reviewer_name          object"
      ]
     },
     "metadata": {},
     "output_type": "display_data"
    }
   ],
   "source": [
    "dtypes = pd.DataFrame(df_reviews_silver_cln.dtypes)\n",
    "\n",
    "list_datetime = ['date']\n",
    "\n",
    "for column in list_datetime:\n",
    "    df_reviews_silver_cln[column] = pd.to_datetime(\n",
    "        df_reviews_silver_cln[column], format='%Y-%m-%d')\n",
    "\n",
    "dtypes = pd.DataFrame(df_reviews_silver_cln.dtypes)\n",
    "display(dtypes)"
   ]
  },
  {
   "cell_type": "code",
   "execution_count": 64,
   "metadata": {},
   "outputs": [
    {
     "data": {
      "text/html": [
       "<div>\n",
       "<style scoped>\n",
       "    .dataframe tbody tr th:only-of-type {\n",
       "        vertical-align: middle;\n",
       "    }\n",
       "\n",
       "    .dataframe tbody tr th {\n",
       "        vertical-align: top;\n",
       "    }\n",
       "\n",
       "    .dataframe thead th {\n",
       "        text-align: right;\n",
       "    }\n",
       "</style>\n",
       "<table border=\"1\" class=\"dataframe\">\n",
       "  <thead>\n",
       "    <tr style=\"text-align: right;\">\n",
       "      <th></th>\n",
       "      <th>0</th>\n",
       "    </tr>\n",
       "  </thead>\n",
       "  <tbody>\n",
       "    <tr>\n",
       "      <th>listing_id</th>\n",
       "      <td>int64</td>\n",
       "    </tr>\n",
       "    <tr>\n",
       "      <th>date</th>\n",
       "      <td>datetime64[ns]</td>\n",
       "    </tr>\n",
       "    <tr>\n",
       "      <th>available</th>\n",
       "      <td>object</td>\n",
       "    </tr>\n",
       "    <tr>\n",
       "      <th>price</th>\n",
       "      <td>float64</td>\n",
       "    </tr>\n",
       "    <tr>\n",
       "      <th>adjusted_price</th>\n",
       "      <td>float64</td>\n",
       "    </tr>\n",
       "    <tr>\n",
       "      <th>minimum_nights</th>\n",
       "      <td>float64</td>\n",
       "    </tr>\n",
       "    <tr>\n",
       "      <th>maximum_nights</th>\n",
       "      <td>float64</td>\n",
       "    </tr>\n",
       "  </tbody>\n",
       "</table>\n",
       "</div>"
      ],
      "text/plain": [
       "                             0\n",
       "listing_id               int64\n",
       "date            datetime64[ns]\n",
       "available               object\n",
       "price                  float64\n",
       "adjusted_price         float64\n",
       "minimum_nights         float64\n",
       "maximum_nights         float64"
      ]
     },
     "metadata": {},
     "output_type": "display_data"
    }
   ],
   "source": [
    "dtypes = pd.DataFrame(df_calendar_silver_cln.dtypes)\n",
    "\n",
    "list_datetime = ['date']\n",
    "list_float = ['price', 'adjusted_price']\n",
    "\n",
    "for column in list_datetime:\n",
    "    df_calendar_silver_cln[column] = pd.to_datetime(\n",
    "        df_calendar_silver_cln[column], format='%Y-%m-%d')\n",
    "\n",
    "for column in list_float:\n",
    "    df_calendar_silver_cln[column] = df_calendar_silver_cln[column].str.replace(\n",
    "        '$', '', regex=False).str.replace(',', '', regex=False).astype(float)\n",
    "\n",
    "dtypes = pd.DataFrame(df_calendar_silver_cln.dtypes)\n",
    "display(dtypes)"
   ]
  },
  {
   "cell_type": "markdown",
   "metadata": {},
   "source": [
    "Replace columns\n"
   ]
  },
  {
   "cell_type": "code",
   "execution_count": 65,
   "metadata": {},
   "outputs": [],
   "source": [
    "df_listing_silver_cln.columns = df_listing_silver_cln.columns.str.replace(\n",
    "    r'\\W', '_', regex=True)\n",
    "df_reviews_silver_cln.columns = df_reviews_silver_cln.columns.str.replace(\n",
    "    r'\\W', '_', regex=True)\n",
    "df_calendar_silver_cln.columns = df_calendar_silver_cln.columns.str.replace(\n",
    "    r'\\W', '_', regex=True)"
   ]
  },
  {
   "cell_type": "markdown",
   "metadata": {},
   "source": [
    "Handling null values\n"
   ]
  },
  {
   "cell_type": "code",
   "execution_count": 66,
   "metadata": {},
   "outputs": [],
   "source": [
    "def check_missing(df):\n",
    "    res_missing = df.isna().sum()\n",
    "    res_missing = (res_missing/len(df))*100\n",
    "    return res_missing[res_missing > 0]"
   ]
  },
  {
   "cell_type": "code",
   "execution_count": 67,
   "metadata": {},
   "outputs": [],
   "source": [
    "# print(\"Valores null antes\")\n",
    "# display(pd.DataFrame(check_missing(\n",
    "#     df_listing_silver_cln).sort_values(ascending=False)))\n",
    "\n",
    "colums_filnan = pd.DataFrame(check_missing(\n",
    "    df_listing_silver_cln).sort_values(ascending=False), columns=['name']).reset_index()\n",
    "colums_filnan.columns = ['column_name', 'percentage']\n",
    "\n",
    "columns_listing_silver_cln = colums_filnan['column_name'].to_list()\n",
    "\n",
    "df_listing_silver_cln[columns_listing_silver_cln] = df_listing_silver_cln[columns_listing_silver_cln].fillna(\n",
    "    \"no_info\")"
   ]
  },
  {
   "cell_type": "code",
   "execution_count": 68,
   "metadata": {},
   "outputs": [],
   "source": [
    "colums_filnan = pd.DataFrame(check_missing(\n",
    "    df_reviews_silver_cln).sort_values(ascending=False), columns=['name']).reset_index()\n",
    "colums_filnan.columns = ['column_name', 'percentage']\n",
    "\n",
    "columns_reviews_silver_cln = colums_filnan['column_name'].to_list()\n",
    "\n",
    "df_reviews_silver_cln[columns_reviews_silver_cln] = df_reviews_silver_cln[columns_reviews_silver_cln].fillna(\n",
    "    \"no_info\")"
   ]
  },
  {
   "cell_type": "code",
   "execution_count": 69,
   "metadata": {},
   "outputs": [],
   "source": [
    "# print(\"Valores null antes\")\n",
    "# display(pd.DataFrame(check_missing(\n",
    "#     df_calendar_silver_cln).sort_values(ascending=False)))\n",
    "\n",
    "colums_filnan = pd.DataFrame(check_missing(\n",
    "    df_calendar_silver_cln).sort_values(ascending=False), columns=['name']).reset_index()\n",
    "colums_filnan.columns = ['column_name', 'percentage']\n",
    "\n",
    "columns_calendar_silver_cln = colums_filnan['column_name'].to_list()\n",
    "\n",
    "df_calendar_silver_cln[columns_calendar_silver_cln] = df_calendar_silver_cln[columns_calendar_silver_cln].fillna(\n",
    "    \"no_info\")"
   ]
  },
  {
   "cell_type": "markdown",
   "metadata": {},
   "source": [
    "Drop duplicateds\n"
   ]
  },
  {
   "cell_type": "code",
   "execution_count": 70,
   "metadata": {},
   "outputs": [],
   "source": [
    "df_listing_silver_cln = df_listing_silver_cln.drop_duplicates()\n",
    "df_calendar_silver_cln = df_calendar_silver_cln.drop_duplicates()\n",
    "df_reviews_silver_cln = df_reviews_silver_cln.drop_duplicates()"
   ]
  },
  {
   "cell_type": "markdown",
   "metadata": {},
   "source": [
    "Removing special characters\n"
   ]
  },
  {
   "cell_type": "code",
   "execution_count": 71,
   "metadata": {},
   "outputs": [],
   "source": [
    "pattern = r'<[^>]+>'\n",
    "df_listing_silver_cln['description'] = df_listing_silver_cln['description'].str.replace(\n",
    "    pattern, '', regex=True)\n",
    "\n",
    "\n",
    "df_listing_silver_cln['description'] = df_listing_silver_cln['description'].str.strip(\n",
    ").str.lower().str.replace('[^a-z\\s]', '', regex=True)"
   ]
  },
  {
   "cell_type": "markdown",
   "metadata": {},
   "source": [
    "Eliminating extremely unbalanced speakers\n"
   ]
  },
  {
   "cell_type": "code",
   "execution_count": null,
   "metadata": {},
   "outputs": [],
   "source": [
    "# df_listing_silver_cln['maximum_nights'].value_counts(normalize=True).values[0]\n",
    "# df_listing_silver_cln['maximum_nights'].value_counts(normalize=True)"
   ]
  },
  {
   "cell_type": "code",
   "execution_count": 72,
   "metadata": {},
   "outputs": [],
   "source": [
    "list_imbalance = []\n",
    "limit = 0.98\n",
    "for col in df_listing_silver_cln.columns:\n",
    "    perc = df_listing_silver_cln[col].value_counts(normalize=True).values[0]\n",
    "    if perc > limit:\n",
    "        list_imbalance.append(col)\n",
    "        # print(col, perc)"
   ]
  },
  {
   "cell_type": "code",
   "execution_count": 73,
   "metadata": {},
   "outputs": [],
   "source": [
    "df_listing_silver_cln = df_listing_silver_cln.drop(list_imbalance, axis=1)"
   ]
  },
  {
   "cell_type": "code",
   "execution_count": 74,
   "metadata": {},
   "outputs": [],
   "source": [
    "list_imbalance = []\n",
    "limit = 0.98\n",
    "for col in df_listing_silver_cln.columns:\n",
    "    perc = df_listing_silver_cln[col].value_counts(normalize=True).values[0]\n",
    "    if perc > limit:\n",
    "        list_imbalance.append(col)\n",
    "        # print(col, perc)"
   ]
  },
  {
   "cell_type": "markdown",
   "metadata": {},
   "source": [
    "Checking data accuracy\n"
   ]
  },
  {
   "cell_type": "code",
   "execution_count": 75,
   "metadata": {},
   "outputs": [],
   "source": [
    "df_listing_silver_cln = df_listing_silver_cln[df_listing_silver_cln['price'] > 0]"
   ]
  },
  {
   "cell_type": "code",
   "execution_count": 76,
   "metadata": {},
   "outputs": [
    {
     "data": {
      "text/html": [
       "<div>\n",
       "<style scoped>\n",
       "    .dataframe tbody tr th:only-of-type {\n",
       "        vertical-align: middle;\n",
       "    }\n",
       "\n",
       "    .dataframe tbody tr th {\n",
       "        vertical-align: top;\n",
       "    }\n",
       "\n",
       "    .dataframe thead th {\n",
       "        text-align: right;\n",
       "    }\n",
       "</style>\n",
       "<table border=\"1\" class=\"dataframe\">\n",
       "  <thead>\n",
       "    <tr style=\"text-align: right;\">\n",
       "      <th></th>\n",
       "      <th>id</th>\n",
       "      <th>host_id</th>\n",
       "      <th>host_listings_count</th>\n",
       "      <th>host_total_listings_count</th>\n",
       "      <th>latitude</th>\n",
       "      <th>longitude</th>\n",
       "      <th>accommodates</th>\n",
       "      <th>price</th>\n",
       "      <th>minimum_nights</th>\n",
       "      <th>maximum_nights</th>\n",
       "      <th>...</th>\n",
       "      <th>availability_30</th>\n",
       "      <th>availability_60</th>\n",
       "      <th>availability_90</th>\n",
       "      <th>availability_365</th>\n",
       "      <th>number_of_reviews</th>\n",
       "      <th>number_of_reviews_ltm</th>\n",
       "      <th>number_of_reviews_l30d</th>\n",
       "      <th>calculated_host_listings_count</th>\n",
       "      <th>calculated_host_listings_count_entire_homes</th>\n",
       "      <th>calculated_host_listings_count_private_rooms</th>\n",
       "    </tr>\n",
       "  </thead>\n",
       "  <tbody>\n",
       "    <tr>\n",
       "      <th>count</th>\n",
       "      <td>5.000000e+02</td>\n",
       "      <td>5.000000e+02</td>\n",
       "      <td>500.000000</td>\n",
       "      <td>500.000000</td>\n",
       "      <td>500.000000</td>\n",
       "      <td>500.000000</td>\n",
       "      <td>500.000000</td>\n",
       "      <td>500.00000</td>\n",
       "      <td>500.000000</td>\n",
       "      <td>500.000000</td>\n",
       "      <td>...</td>\n",
       "      <td>500.000000</td>\n",
       "      <td>500.000000</td>\n",
       "      <td>500.000000</td>\n",
       "      <td>500.000000</td>\n",
       "      <td>500.000000</td>\n",
       "      <td>500.000000</td>\n",
       "      <td>500.000000</td>\n",
       "      <td>500.000000</td>\n",
       "      <td>500.000000</td>\n",
       "      <td>500.000000</td>\n",
       "    </tr>\n",
       "    <tr>\n",
       "      <th>mean</th>\n",
       "      <td>5.408310e+05</td>\n",
       "      <td>3.133322e+06</td>\n",
       "      <td>6.074000</td>\n",
       "      <td>12.244000</td>\n",
       "      <td>-22.966177</td>\n",
       "      <td>-43.210415</td>\n",
       "      <td>3.738000</td>\n",
       "      <td>593.45800</td>\n",
       "      <td>3.976000</td>\n",
       "      <td>427.516000</td>\n",
       "      <td>...</td>\n",
       "      <td>14.282000</td>\n",
       "      <td>29.434000</td>\n",
       "      <td>48.858000</td>\n",
       "      <td>210.812000</td>\n",
       "      <td>72.862000</td>\n",
       "      <td>8.536000</td>\n",
       "      <td>0.566000</td>\n",
       "      <td>5.256000</td>\n",
       "      <td>4.114000</td>\n",
       "      <td>1.140000</td>\n",
       "    </tr>\n",
       "    <tr>\n",
       "      <th>std</th>\n",
       "      <td>2.905543e+05</td>\n",
       "      <td>1.697014e+07</td>\n",
       "      <td>12.812683</td>\n",
       "      <td>29.921615</td>\n",
       "      <td>0.027333</td>\n",
       "      <td>0.055362</td>\n",
       "      <td>2.329852</td>\n",
       "      <td>1411.26185</td>\n",
       "      <td>6.533667</td>\n",
       "      <td>476.241684</td>\n",
       "      <td>...</td>\n",
       "      <td>12.276804</td>\n",
       "      <td>23.603897</td>\n",
       "      <td>34.211441</td>\n",
       "      <td>130.635201</td>\n",
       "      <td>100.458702</td>\n",
       "      <td>12.291903</td>\n",
       "      <td>1.154257</td>\n",
       "      <td>11.376701</td>\n",
       "      <td>10.133033</td>\n",
       "      <td>2.072919</td>\n",
       "    </tr>\n",
       "    <tr>\n",
       "      <th>min</th>\n",
       "      <td>1.787800e+04</td>\n",
       "      <td>6.899700e+04</td>\n",
       "      <td>1.000000</td>\n",
       "      <td>1.000000</td>\n",
       "      <td>-23.031540</td>\n",
       "      <td>-43.490740</td>\n",
       "      <td>1.000000</td>\n",
       "      <td>57.00000</td>\n",
       "      <td>1.000000</td>\n",
       "      <td>3.000000</td>\n",
       "      <td>...</td>\n",
       "      <td>0.000000</td>\n",
       "      <td>0.000000</td>\n",
       "      <td>0.000000</td>\n",
       "      <td>0.000000</td>\n",
       "      <td>0.000000</td>\n",
       "      <td>0.000000</td>\n",
       "      <td>0.000000</td>\n",
       "      <td>1.000000</td>\n",
       "      <td>0.000000</td>\n",
       "      <td>0.000000</td>\n",
       "    </tr>\n",
       "    <tr>\n",
       "      <th>25%</th>\n",
       "      <td>2.863962e+05</td>\n",
       "      <td>8.561450e+05</td>\n",
       "      <td>1.000000</td>\n",
       "      <td>2.000000</td>\n",
       "      <td>-22.983230</td>\n",
       "      <td>-43.205258</td>\n",
       "      <td>2.000000</td>\n",
       "      <td>196.75000</td>\n",
       "      <td>2.000000</td>\n",
       "      <td>30.750000</td>\n",
       "      <td>...</td>\n",
       "      <td>0.000000</td>\n",
       "      <td>4.000000</td>\n",
       "      <td>14.000000</td>\n",
       "      <td>97.750000</td>\n",
       "      <td>5.000000</td>\n",
       "      <td>0.000000</td>\n",
       "      <td>0.000000</td>\n",
       "      <td>1.000000</td>\n",
       "      <td>1.000000</td>\n",
       "      <td>0.000000</td>\n",
       "    </tr>\n",
       "    <tr>\n",
       "      <th>50%</th>\n",
       "      <td>5.216840e+05</td>\n",
       "      <td>1.971872e+06</td>\n",
       "      <td>2.000000</td>\n",
       "      <td>4.000000</td>\n",
       "      <td>-22.974210</td>\n",
       "      <td>-43.191585</td>\n",
       "      <td>3.000000</td>\n",
       "      <td>300.00000</td>\n",
       "      <td>3.000000</td>\n",
       "      <td>90.000000</td>\n",
       "      <td>...</td>\n",
       "      <td>13.000000</td>\n",
       "      <td>27.000000</td>\n",
       "      <td>51.000000</td>\n",
       "      <td>225.500000</td>\n",
       "      <td>31.000000</td>\n",
       "      <td>3.000000</td>\n",
       "      <td>0.000000</td>\n",
       "      <td>2.000000</td>\n",
       "      <td>1.000000</td>\n",
       "      <td>0.000000</td>\n",
       "    </tr>\n",
       "    <tr>\n",
       "      <th>75%</th>\n",
       "      <td>8.290320e+05</td>\n",
       "      <td>3.943461e+06</td>\n",
       "      <td>5.000000</td>\n",
       "      <td>8.250000</td>\n",
       "      <td>-22.956367</td>\n",
       "      <td>-43.185102</td>\n",
       "      <td>4.000000</td>\n",
       "      <td>542.00000</td>\n",
       "      <td>4.000000</td>\n",
       "      <td>1125.000000</td>\n",
       "      <td>...</td>\n",
       "      <td>28.000000</td>\n",
       "      <td>57.000000</td>\n",
       "      <td>87.000000</td>\n",
       "      <td>343.250000</td>\n",
       "      <td>105.250000</td>\n",
       "      <td>12.000000</td>\n",
       "      <td>1.000000</td>\n",
       "      <td>4.000000</td>\n",
       "      <td>3.000000</td>\n",
       "      <td>1.000000</td>\n",
       "    </tr>\n",
       "    <tr>\n",
       "      <th>max</th>\n",
       "      <td>1.016312e+06</td>\n",
       "      <td>3.800592e+08</td>\n",
       "      <td>123.000000</td>\n",
       "      <td>399.000000</td>\n",
       "      <td>-22.840080</td>\n",
       "      <td>-43.161440</td>\n",
       "      <td>16.000000</td>\n",
       "      <td>25000.00000</td>\n",
       "      <td>90.000000</td>\n",
       "      <td>1825.000000</td>\n",
       "      <td>...</td>\n",
       "      <td>30.000000</td>\n",
       "      <td>60.000000</td>\n",
       "      <td>90.000000</td>\n",
       "      <td>365.000000</td>\n",
       "      <td>611.000000</td>\n",
       "      <td>68.000000</td>\n",
       "      <td>8.000000</td>\n",
       "      <td>121.000000</td>\n",
       "      <td>121.000000</td>\n",
       "      <td>9.000000</td>\n",
       "    </tr>\n",
       "  </tbody>\n",
       "</table>\n",
       "<p>8 rows × 26 columns</p>\n",
       "</div>"
      ],
      "text/plain": [
       "                 id       host_id  host_listings_count  \\\n",
       "count  5.000000e+02  5.000000e+02           500.000000   \n",
       "mean   5.408310e+05  3.133322e+06             6.074000   \n",
       "std    2.905543e+05  1.697014e+07            12.812683   \n",
       "min    1.787800e+04  6.899700e+04             1.000000   \n",
       "25%    2.863962e+05  8.561450e+05             1.000000   \n",
       "50%    5.216840e+05  1.971872e+06             2.000000   \n",
       "75%    8.290320e+05  3.943461e+06             5.000000   \n",
       "max    1.016312e+06  3.800592e+08           123.000000   \n",
       "\n",
       "       host_total_listings_count    latitude   longitude  accommodates  \\\n",
       "count                 500.000000  500.000000  500.000000    500.000000   \n",
       "mean                   12.244000  -22.966177  -43.210415      3.738000   \n",
       "std                    29.921615    0.027333    0.055362      2.329852   \n",
       "min                     1.000000  -23.031540  -43.490740      1.000000   \n",
       "25%                     2.000000  -22.983230  -43.205258      2.000000   \n",
       "50%                     4.000000  -22.974210  -43.191585      3.000000   \n",
       "75%                     8.250000  -22.956367  -43.185102      4.000000   \n",
       "max                   399.000000  -22.840080  -43.161440     16.000000   \n",
       "\n",
       "             price  minimum_nights  maximum_nights  ...  availability_30  \\\n",
       "count    500.00000      500.000000      500.000000  ...       500.000000   \n",
       "mean     593.45800        3.976000      427.516000  ...        14.282000   \n",
       "std     1411.26185        6.533667      476.241684  ...        12.276804   \n",
       "min       57.00000        1.000000        3.000000  ...         0.000000   \n",
       "25%      196.75000        2.000000       30.750000  ...         0.000000   \n",
       "50%      300.00000        3.000000       90.000000  ...        13.000000   \n",
       "75%      542.00000        4.000000     1125.000000  ...        28.000000   \n",
       "max    25000.00000       90.000000     1825.000000  ...        30.000000   \n",
       "\n",
       "       availability_60  availability_90  availability_365  number_of_reviews  \\\n",
       "count       500.000000       500.000000        500.000000         500.000000   \n",
       "mean         29.434000        48.858000        210.812000          72.862000   \n",
       "std          23.603897        34.211441        130.635201         100.458702   \n",
       "min           0.000000         0.000000          0.000000           0.000000   \n",
       "25%           4.000000        14.000000         97.750000           5.000000   \n",
       "50%          27.000000        51.000000        225.500000          31.000000   \n",
       "75%          57.000000        87.000000        343.250000         105.250000   \n",
       "max          60.000000        90.000000        365.000000         611.000000   \n",
       "\n",
       "       number_of_reviews_ltm  number_of_reviews_l30d  \\\n",
       "count             500.000000              500.000000   \n",
       "mean                8.536000                0.566000   \n",
       "std                12.291903                1.154257   \n",
       "min                 0.000000                0.000000   \n",
       "25%                 0.000000                0.000000   \n",
       "50%                 3.000000                0.000000   \n",
       "75%                12.000000                1.000000   \n",
       "max                68.000000                8.000000   \n",
       "\n",
       "       calculated_host_listings_count  \\\n",
       "count                      500.000000   \n",
       "mean                         5.256000   \n",
       "std                         11.376701   \n",
       "min                          1.000000   \n",
       "25%                          1.000000   \n",
       "50%                          2.000000   \n",
       "75%                          4.000000   \n",
       "max                        121.000000   \n",
       "\n",
       "       calculated_host_listings_count_entire_homes  \\\n",
       "count                                   500.000000   \n",
       "mean                                      4.114000   \n",
       "std                                      10.133033   \n",
       "min                                       0.000000   \n",
       "25%                                       1.000000   \n",
       "50%                                       1.000000   \n",
       "75%                                       3.000000   \n",
       "max                                     121.000000   \n",
       "\n",
       "       calculated_host_listings_count_private_rooms  \n",
       "count                                    500.000000  \n",
       "mean                                       1.140000  \n",
       "std                                        2.072919  \n",
       "min                                        0.000000  \n",
       "25%                                        0.000000  \n",
       "50%                                        0.000000  \n",
       "75%                                        1.000000  \n",
       "max                                        9.000000  \n",
       "\n",
       "[8 rows x 26 columns]"
      ]
     },
     "execution_count": 76,
     "metadata": {},
     "output_type": "execute_result"
    }
   ],
   "source": [
    "df_listing_silver_cln.describe()"
   ]
  },
  {
   "cell_type": "markdown",
   "metadata": {},
   "source": [
    "Outliers\n"
   ]
  },
  {
   "cell_type": "code",
   "execution_count": 77,
   "metadata": {},
   "outputs": [
    {
     "data": {
      "text/plain": [
       "price             100.0\n",
       "maximum_nights      7.0\n",
       "Name: 0.02, dtype: float64"
      ]
     },
     "execution_count": 77,
     "metadata": {},
     "output_type": "execute_result"
    }
   ],
   "source": [
    "# valor do quantil de 2% a esquerda\n",
    "df_listing_silver_cln[['price', 'maximum_nights']].quantile(.02)"
   ]
  },
  {
   "cell_type": "code",
   "execution_count": 78,
   "metadata": {},
   "outputs": [
    {
     "data": {
      "text/plain": [
       "price             3008.96\n",
       "maximum_nights    1125.00\n",
       "Name: 0.98, dtype: float64"
      ]
     },
     "execution_count": 78,
     "metadata": {},
     "output_type": "execute_result"
    }
   ],
   "source": [
    "# valor do quantil de 2% a direita\n",
    "df_listing_silver_cln[['price', 'maximum_nights']].quantile(.98)"
   ]
  },
  {
   "cell_type": "code",
   "execution_count": 79,
   "metadata": {},
   "outputs": [
    {
     "name": "stdout",
     "output_type": "stream",
     "text": [
      "Quantidade de linhas antes de eliminar os outliers: 500\n",
      "Quantidade de linhas depois de eliminar os outliers: 329\n"
     ]
    }
   ],
   "source": [
    "print(\"Quantidade de linhas antes de eliminar os outliers:\",\n",
    "      len(df_listing_silver_cln))\n",
    "# colunas para considerar a eliminação de outliers\n",
    "list_quantile = ['price', 'maximum_nights']\n",
    "df_aux = df_listing_silver_cln.copy()\n",
    "for col in list_quantile:\n",
    "    low_limit = df_aux[col].quantile(.02)  # valor do quantil de 2% a esquerda\n",
    "    high_limit = df_aux[col].quantile(.98)  # valor do quantil de 2% a direita\n",
    "    df_listing_silver_cln = df_listing_silver_cln[(df_listing_silver_cln[col] > low_limit) & (\n",
    "        df_listing_silver_cln[col] < high_limit)]  # filtra a partir do quantil\n",
    "\n",
    "print(\"Quantidade de linhas depois de eliminar os outliers:\",\n",
    "      len(df_listing_silver_cln))"
   ]
  },
  {
   "cell_type": "code",
   "execution_count": 80,
   "metadata": {},
   "outputs": [
    {
     "data": {
      "text/html": [
       "<div>\n",
       "<style scoped>\n",
       "    .dataframe tbody tr th:only-of-type {\n",
       "        vertical-align: middle;\n",
       "    }\n",
       "\n",
       "    .dataframe tbody tr th {\n",
       "        vertical-align: top;\n",
       "    }\n",
       "\n",
       "    .dataframe thead th {\n",
       "        text-align: right;\n",
       "    }\n",
       "</style>\n",
       "<table border=\"1\" class=\"dataframe\">\n",
       "  <thead>\n",
       "    <tr style=\"text-align: right;\">\n",
       "      <th></th>\n",
       "      <th>id</th>\n",
       "      <th>host_id</th>\n",
       "      <th>host_listings_count</th>\n",
       "      <th>host_total_listings_count</th>\n",
       "      <th>latitude</th>\n",
       "      <th>longitude</th>\n",
       "      <th>accommodates</th>\n",
       "      <th>price</th>\n",
       "      <th>minimum_nights</th>\n",
       "      <th>maximum_nights</th>\n",
       "      <th>...</th>\n",
       "      <th>availability_30</th>\n",
       "      <th>availability_60</th>\n",
       "      <th>availability_90</th>\n",
       "      <th>availability_365</th>\n",
       "      <th>number_of_reviews</th>\n",
       "      <th>number_of_reviews_ltm</th>\n",
       "      <th>number_of_reviews_l30d</th>\n",
       "      <th>calculated_host_listings_count</th>\n",
       "      <th>calculated_host_listings_count_entire_homes</th>\n",
       "      <th>calculated_host_listings_count_private_rooms</th>\n",
       "    </tr>\n",
       "  </thead>\n",
       "  <tbody>\n",
       "    <tr>\n",
       "      <th>count</th>\n",
       "      <td>3.290000e+02</td>\n",
       "      <td>3.290000e+02</td>\n",
       "      <td>329.000000</td>\n",
       "      <td>329.000000</td>\n",
       "      <td>329.000000</td>\n",
       "      <td>329.000000</td>\n",
       "      <td>329.000000</td>\n",
       "      <td>329.000000</td>\n",
       "      <td>329.000000</td>\n",
       "      <td>329.00000</td>\n",
       "      <td>...</td>\n",
       "      <td>329.000000</td>\n",
       "      <td>329.000000</td>\n",
       "      <td>329.000000</td>\n",
       "      <td>329.000000</td>\n",
       "      <td>329.000000</td>\n",
       "      <td>329.000000</td>\n",
       "      <td>329.000000</td>\n",
       "      <td>329.000000</td>\n",
       "      <td>329.000000</td>\n",
       "      <td>329.000000</td>\n",
       "    </tr>\n",
       "    <tr>\n",
       "      <th>mean</th>\n",
       "      <td>5.166542e+05</td>\n",
       "      <td>2.199125e+06</td>\n",
       "      <td>3.702128</td>\n",
       "      <td>8.054711</td>\n",
       "      <td>-22.967138</td>\n",
       "      <td>-43.207967</td>\n",
       "      <td>3.741641</td>\n",
       "      <td>448.537994</td>\n",
       "      <td>3.851064</td>\n",
       "      <td>148.18541</td>\n",
       "      <td>...</td>\n",
       "      <td>13.927052</td>\n",
       "      <td>28.580547</td>\n",
       "      <td>48.285714</td>\n",
       "      <td>207.705167</td>\n",
       "      <td>77.273556</td>\n",
       "      <td>8.829787</td>\n",
       "      <td>0.577508</td>\n",
       "      <td>3.188450</td>\n",
       "      <td>2.340426</td>\n",
       "      <td>0.848024</td>\n",
       "    </tr>\n",
       "    <tr>\n",
       "      <th>std</th>\n",
       "      <td>2.976883e+05</td>\n",
       "      <td>1.661614e+06</td>\n",
       "      <td>3.985036</td>\n",
       "      <td>13.201882</td>\n",
       "      <td>0.026229</td>\n",
       "      <td>0.051410</td>\n",
       "      <td>2.199667</td>\n",
       "      <td>437.521309</td>\n",
       "      <td>6.429662</td>\n",
       "      <td>187.52489</td>\n",
       "      <td>...</td>\n",
       "      <td>11.921267</td>\n",
       "      <td>22.700470</td>\n",
       "      <td>32.791616</td>\n",
       "      <td>127.174338</td>\n",
       "      <td>102.387734</td>\n",
       "      <td>12.627698</td>\n",
       "      <td>1.194849</td>\n",
       "      <td>3.344232</td>\n",
       "      <td>3.264682</td>\n",
       "      <td>1.408166</td>\n",
       "    </tr>\n",
       "    <tr>\n",
       "      <th>min</th>\n",
       "      <td>1.787800e+04</td>\n",
       "      <td>6.899700e+04</td>\n",
       "      <td>1.000000</td>\n",
       "      <td>1.000000</td>\n",
       "      <td>-23.031540</td>\n",
       "      <td>-43.490740</td>\n",
       "      <td>1.000000</td>\n",
       "      <td>101.000000</td>\n",
       "      <td>1.000000</td>\n",
       "      <td>8.00000</td>\n",
       "      <td>...</td>\n",
       "      <td>0.000000</td>\n",
       "      <td>0.000000</td>\n",
       "      <td>0.000000</td>\n",
       "      <td>0.000000</td>\n",
       "      <td>0.000000</td>\n",
       "      <td>0.000000</td>\n",
       "      <td>0.000000</td>\n",
       "      <td>1.000000</td>\n",
       "      <td>0.000000</td>\n",
       "      <td>0.000000</td>\n",
       "    </tr>\n",
       "    <tr>\n",
       "      <th>25%</th>\n",
       "      <td>2.719750e+05</td>\n",
       "      <td>7.922180e+05</td>\n",
       "      <td>1.000000</td>\n",
       "      <td>2.000000</td>\n",
       "      <td>-22.983120</td>\n",
       "      <td>-43.200790</td>\n",
       "      <td>2.000000</td>\n",
       "      <td>195.000000</td>\n",
       "      <td>2.000000</td>\n",
       "      <td>30.00000</td>\n",
       "      <td>...</td>\n",
       "      <td>1.000000</td>\n",
       "      <td>6.000000</td>\n",
       "      <td>17.000000</td>\n",
       "      <td>103.000000</td>\n",
       "      <td>8.000000</td>\n",
       "      <td>0.000000</td>\n",
       "      <td>0.000000</td>\n",
       "      <td>1.000000</td>\n",
       "      <td>1.000000</td>\n",
       "      <td>0.000000</td>\n",
       "    </tr>\n",
       "    <tr>\n",
       "      <th>50%</th>\n",
       "      <td>4.802200e+05</td>\n",
       "      <td>1.648634e+06</td>\n",
       "      <td>2.000000</td>\n",
       "      <td>4.000000</td>\n",
       "      <td>-22.974530</td>\n",
       "      <td>-43.191100</td>\n",
       "      <td>3.000000</td>\n",
       "      <td>296.000000</td>\n",
       "      <td>3.000000</td>\n",
       "      <td>90.00000</td>\n",
       "      <td>...</td>\n",
       "      <td>12.000000</td>\n",
       "      <td>26.000000</td>\n",
       "      <td>50.000000</td>\n",
       "      <td>211.000000</td>\n",
       "      <td>37.000000</td>\n",
       "      <td>3.000000</td>\n",
       "      <td>0.000000</td>\n",
       "      <td>2.000000</td>\n",
       "      <td>1.000000</td>\n",
       "      <td>0.000000</td>\n",
       "    </tr>\n",
       "    <tr>\n",
       "      <th>75%</th>\n",
       "      <td>8.241020e+05</td>\n",
       "      <td>3.528095e+06</td>\n",
       "      <td>5.000000</td>\n",
       "      <td>9.000000</td>\n",
       "      <td>-22.959750</td>\n",
       "      <td>-43.184960</td>\n",
       "      <td>4.000000</td>\n",
       "      <td>500.000000</td>\n",
       "      <td>4.000000</td>\n",
       "      <td>180.00000</td>\n",
       "      <td>...</td>\n",
       "      <td>28.000000</td>\n",
       "      <td>54.000000</td>\n",
       "      <td>83.000000</td>\n",
       "      <td>328.000000</td>\n",
       "      <td>109.000000</td>\n",
       "      <td>13.000000</td>\n",
       "      <td>1.000000</td>\n",
       "      <td>4.000000</td>\n",
       "      <td>3.000000</td>\n",
       "      <td>1.000000</td>\n",
       "    </tr>\n",
       "    <tr>\n",
       "      <th>max</th>\n",
       "      <td>1.016312e+06</td>\n",
       "      <td>9.709135e+06</td>\n",
       "      <td>35.000000</td>\n",
       "      <td>118.000000</td>\n",
       "      <td>-22.840080</td>\n",
       "      <td>-43.161440</td>\n",
       "      <td>16.000000</td>\n",
       "      <td>2600.000000</td>\n",
       "      <td>90.000000</td>\n",
       "      <td>1124.00000</td>\n",
       "      <td>...</td>\n",
       "      <td>30.000000</td>\n",
       "      <td>60.000000</td>\n",
       "      <td>90.000000</td>\n",
       "      <td>365.000000</td>\n",
       "      <td>611.000000</td>\n",
       "      <td>68.000000</td>\n",
       "      <td>8.000000</td>\n",
       "      <td>28.000000</td>\n",
       "      <td>26.000000</td>\n",
       "      <td>6.000000</td>\n",
       "    </tr>\n",
       "  </tbody>\n",
       "</table>\n",
       "<p>8 rows × 26 columns</p>\n",
       "</div>"
      ],
      "text/plain": [
       "                 id       host_id  host_listings_count  \\\n",
       "count  3.290000e+02  3.290000e+02           329.000000   \n",
       "mean   5.166542e+05  2.199125e+06             3.702128   \n",
       "std    2.976883e+05  1.661614e+06             3.985036   \n",
       "min    1.787800e+04  6.899700e+04             1.000000   \n",
       "25%    2.719750e+05  7.922180e+05             1.000000   \n",
       "50%    4.802200e+05  1.648634e+06             2.000000   \n",
       "75%    8.241020e+05  3.528095e+06             5.000000   \n",
       "max    1.016312e+06  9.709135e+06            35.000000   \n",
       "\n",
       "       host_total_listings_count    latitude   longitude  accommodates  \\\n",
       "count                 329.000000  329.000000  329.000000    329.000000   \n",
       "mean                    8.054711  -22.967138  -43.207967      3.741641   \n",
       "std                    13.201882    0.026229    0.051410      2.199667   \n",
       "min                     1.000000  -23.031540  -43.490740      1.000000   \n",
       "25%                     2.000000  -22.983120  -43.200790      2.000000   \n",
       "50%                     4.000000  -22.974530  -43.191100      3.000000   \n",
       "75%                     9.000000  -22.959750  -43.184960      4.000000   \n",
       "max                   118.000000  -22.840080  -43.161440     16.000000   \n",
       "\n",
       "             price  minimum_nights  maximum_nights  ...  availability_30  \\\n",
       "count   329.000000      329.000000       329.00000  ...       329.000000   \n",
       "mean    448.537994        3.851064       148.18541  ...        13.927052   \n",
       "std     437.521309        6.429662       187.52489  ...        11.921267   \n",
       "min     101.000000        1.000000         8.00000  ...         0.000000   \n",
       "25%     195.000000        2.000000        30.00000  ...         1.000000   \n",
       "50%     296.000000        3.000000        90.00000  ...        12.000000   \n",
       "75%     500.000000        4.000000       180.00000  ...        28.000000   \n",
       "max    2600.000000       90.000000      1124.00000  ...        30.000000   \n",
       "\n",
       "       availability_60  availability_90  availability_365  number_of_reviews  \\\n",
       "count       329.000000       329.000000        329.000000         329.000000   \n",
       "mean         28.580547        48.285714        207.705167          77.273556   \n",
       "std          22.700470        32.791616        127.174338         102.387734   \n",
       "min           0.000000         0.000000          0.000000           0.000000   \n",
       "25%           6.000000        17.000000        103.000000           8.000000   \n",
       "50%          26.000000        50.000000        211.000000          37.000000   \n",
       "75%          54.000000        83.000000        328.000000         109.000000   \n",
       "max          60.000000        90.000000        365.000000         611.000000   \n",
       "\n",
       "       number_of_reviews_ltm  number_of_reviews_l30d  \\\n",
       "count             329.000000              329.000000   \n",
       "mean                8.829787                0.577508   \n",
       "std                12.627698                1.194849   \n",
       "min                 0.000000                0.000000   \n",
       "25%                 0.000000                0.000000   \n",
       "50%                 3.000000                0.000000   \n",
       "75%                13.000000                1.000000   \n",
       "max                68.000000                8.000000   \n",
       "\n",
       "       calculated_host_listings_count  \\\n",
       "count                      329.000000   \n",
       "mean                         3.188450   \n",
       "std                          3.344232   \n",
       "min                          1.000000   \n",
       "25%                          1.000000   \n",
       "50%                          2.000000   \n",
       "75%                          4.000000   \n",
       "max                         28.000000   \n",
       "\n",
       "       calculated_host_listings_count_entire_homes  \\\n",
       "count                                   329.000000   \n",
       "mean                                      2.340426   \n",
       "std                                       3.264682   \n",
       "min                                       0.000000   \n",
       "25%                                       1.000000   \n",
       "50%                                       1.000000   \n",
       "75%                                       3.000000   \n",
       "max                                      26.000000   \n",
       "\n",
       "       calculated_host_listings_count_private_rooms  \n",
       "count                                    329.000000  \n",
       "mean                                       0.848024  \n",
       "std                                        1.408166  \n",
       "min                                        0.000000  \n",
       "25%                                        0.000000  \n",
       "50%                                        0.000000  \n",
       "75%                                        1.000000  \n",
       "max                                        6.000000  \n",
       "\n",
       "[8 rows x 26 columns]"
      ]
     },
     "execution_count": 80,
     "metadata": {},
     "output_type": "execute_result"
    }
   ],
   "source": [
    "df_listing_silver_cln.describe()"
   ]
  },
  {
   "cell_type": "markdown",
   "metadata": {},
   "source": [
    "Saving dataframe in silver table\n"
   ]
  },
  {
   "cell_type": "code",
   "execution_count": null,
   "metadata": {},
   "outputs": [],
   "source": [
    "df_listing_silver_cln.to_sql(\n",
    "    'Listing_Silver', engine, if_exists='replace', index=False)"
   ]
  },
  {
   "cell_type": "code",
   "execution_count": null,
   "metadata": {},
   "outputs": [],
   "source": [
    "\n",
    "df_reviews_silver_cln.to_sql(\n",
    "    'Reviews_Silver', engine, if_exists='replace', index=False)"
   ]
  },
  {
   "cell_type": "code",
   "execution_count": null,
   "metadata": {},
   "outputs": [],
   "source": [
    "df_calendar_silver_cln.to_sql(\n",
    "    'Calendar_Silver', engine, if_exists='replace', index=False)"
   ]
  },
  {
   "cell_type": "markdown",
   "metadata": {},
   "source": [
    "Reports profiles\n"
   ]
  },
  {
   "cell_type": "code",
   "execution_count": 82,
   "metadata": {},
   "outputs": [
    {
     "data": {
      "application/vnd.jupyter.widget-view+json": {
       "model_id": "b10649bd742342ff9c22c84c3dbb16e7",
       "version_major": 2,
       "version_minor": 0
      },
      "text/plain": [
       "Summarize dataset:   0%|          | 0/5 [00:00<?, ?it/s]"
      ]
     },
     "metadata": {},
     "output_type": "display_data"
    },
    {
     "data": {
      "application/vnd.jupyter.widget-view+json": {
       "model_id": "26bb89a97f704b758fe72d592738212d",
       "version_major": 2,
       "version_minor": 0
      },
      "text/plain": [
       "Generate report structure:   0%|          | 0/1 [00:00<?, ?it/s]"
      ]
     },
     "metadata": {},
     "output_type": "display_data"
    },
    {
     "data": {
      "application/vnd.jupyter.widget-view+json": {
       "model_id": "690ef8aeaa9745afbbed1caba2189872",
       "version_major": 2,
       "version_minor": 0
      },
      "text/plain": [
       "Render HTML:   0%|          | 0/1 [00:00<?, ?it/s]"
      ]
     },
     "metadata": {},
     "output_type": "display_data"
    },
    {
     "data": {
      "application/vnd.jupyter.widget-view+json": {
       "model_id": "beecbb36765f478a99dfa349741b6870",
       "version_major": 2,
       "version_minor": 0
      },
      "text/plain": [
       "Export report to file:   0%|          | 0/1 [00:00<?, ?it/s]"
      ]
     },
     "metadata": {},
     "output_type": "display_data"
    }
   ],
   "source": [
    "profile_listing = ProfileReport(\n",
    "    df_listing_silver_cln, title=\"Pandas Profiling Report\")\n",
    "\n",
    "profile_listing.to_file(f\"reports/Listing_Silver.html\")"
   ]
  },
  {
   "cell_type": "code",
   "execution_count": 84,
   "metadata": {},
   "outputs": [
    {
     "data": {
      "application/vnd.jupyter.widget-view+json": {
       "model_id": "b908ba3c2caf4cd7a7c70a7fab88b4de",
       "version_major": 2,
       "version_minor": 0
      },
      "text/plain": [
       "Summarize dataset:   0%|          | 0/5 [00:00<?, ?it/s]"
      ]
     },
     "metadata": {},
     "output_type": "display_data"
    },
    {
     "data": {
      "application/vnd.jupyter.widget-view+json": {
       "model_id": "4f30020b3fa54a428fcd6cdd43868c2a",
       "version_major": 2,
       "version_minor": 0
      },
      "text/plain": [
       "Generate report structure:   0%|          | 0/1 [00:00<?, ?it/s]"
      ]
     },
     "metadata": {},
     "output_type": "display_data"
    },
    {
     "data": {
      "application/vnd.jupyter.widget-view+json": {
       "model_id": "f72bb8a84d1b4ea8afd923bcd7a3da93",
       "version_major": 2,
       "version_minor": 0
      },
      "text/plain": [
       "Render HTML:   0%|          | 0/1 [00:00<?, ?it/s]"
      ]
     },
     "metadata": {},
     "output_type": "display_data"
    },
    {
     "data": {
      "application/vnd.jupyter.widget-view+json": {
       "model_id": "210a132d71584ecb81760bf30a09b913",
       "version_major": 2,
       "version_minor": 0
      },
      "text/plain": [
       "Export report to file:   0%|          | 0/1 [00:00<?, ?it/s]"
      ]
     },
     "metadata": {},
     "output_type": "display_data"
    }
   ],
   "source": [
    "df_reviews_silver_cln = df_reviews_silver_cln.drop('comments', axis=1)\n",
    "\n",
    "\n",
    "profile_reviews = ProfileReport(\n",
    "    df_reviews_silver_cln, title=\"Pandas Profiling Report\")\n",
    "\n",
    "profile_reviews.to_file(f\"reports/Reviews_Silver.html\")"
   ]
  },
  {
   "cell_type": "code",
   "execution_count": 85,
   "metadata": {},
   "outputs": [
    {
     "data": {
      "application/vnd.jupyter.widget-view+json": {
       "model_id": "deb9b7daafbc44279b6f11dc7a84e9c1",
       "version_major": 2,
       "version_minor": 0
      },
      "text/plain": [
       "Summarize dataset:   0%|          | 0/5 [00:00<?, ?it/s]"
      ]
     },
     "metadata": {},
     "output_type": "display_data"
    },
    {
     "data": {
      "application/vnd.jupyter.widget-view+json": {
       "model_id": "0097499bd820410fa7a1ef246ba605d4",
       "version_major": 2,
       "version_minor": 0
      },
      "text/plain": [
       "Generate report structure:   0%|          | 0/1 [00:00<?, ?it/s]"
      ]
     },
     "metadata": {},
     "output_type": "display_data"
    },
    {
     "data": {
      "application/vnd.jupyter.widget-view+json": {
       "model_id": "86da605167354dc786fb397e5e0e1b44",
       "version_major": 2,
       "version_minor": 0
      },
      "text/plain": [
       "Render HTML:   0%|          | 0/1 [00:00<?, ?it/s]"
      ]
     },
     "metadata": {},
     "output_type": "display_data"
    },
    {
     "data": {
      "application/vnd.jupyter.widget-view+json": {
       "model_id": "81afe7b779684aaf9391b701fe7c9246",
       "version_major": 2,
       "version_minor": 0
      },
      "text/plain": [
       "Export report to file:   0%|          | 0/1 [00:00<?, ?it/s]"
      ]
     },
     "metadata": {},
     "output_type": "display_data"
    }
   ],
   "source": [
    "profile_calendar = ProfileReport(\n",
    "    df_calendar_silver_cln, title=\"Pandas Profiling Report\")\n",
    "\n",
    "profile_calendar.to_file(f\"reports/Calendar_Silver.html\")"
   ]
  }
 ],
 "metadata": {
  "kernelspec": {
   "display_name": "venv",
   "language": "python",
   "name": "python3"
  },
  "language_info": {
   "codemirror_mode": {
    "name": "ipython",
    "version": 3
   },
   "file_extension": ".py",
   "mimetype": "text/x-python",
   "name": "python",
   "nbconvert_exporter": "python",
   "pygments_lexer": "ipython3",
   "version": "3.9.18"
  }
 },
 "nbformat": 4,
 "nbformat_minor": 2
}
