{
 "cells": [
  {
   "cell_type": "markdown",
   "metadata": {},
   "source": [
    "### Imports\n"
   ]
  },
  {
   "cell_type": "code",
   "execution_count": 1,
   "metadata": {},
   "outputs": [],
   "source": [
    "import sys\n",
    "sys.path.append(\"../..\")"
   ]
  },
  {
   "cell_type": "code",
   "execution_count": 2,
   "metadata": {},
   "outputs": [],
   "source": [
    "import pandas as pd\n",
    "from config.connect_db import ConnectDataBase"
   ]
  },
  {
   "cell_type": "code",
   "execution_count": 3,
   "metadata": {},
   "outputs": [],
   "source": [
    "db = ConnectDataBase()\n",
    "engine = db.engine()"
   ]
  },
  {
   "cell_type": "markdown",
   "metadata": {},
   "source": [
    "### Converting csv to parquet and using Brotli mode\n"
   ]
  },
  {
   "cell_type": "code",
   "execution_count": null,
   "metadata": {},
   "outputs": [],
   "source": [
    "# df_listing = pd.read_csv(\"raw/listings.csv\")\n",
    "# df_reviews = pd.read_csv(\"raw/reviews.csv\")\n",
    "# df_calendar = pd.read_csv(\"raw/calendar.csv\")\n",
    "\n",
    "# df_listing.to_parquet('raw/listings.parquet.gz',\n",
    "#                       index=False, compression=\"Brotli\")\n",
    "# df_reviews.to_parquet('raw/reviews.parquet.gz',\n",
    "#                       index=False, compression=\"Brotli\")\n",
    "# df_calendar.to_parquet('raw/calendar.parquet.gz',\n",
    "#                        index=False, compression=\"Brotli\")"
   ]
  },
  {
   "cell_type": "markdown",
   "metadata": {},
   "source": [
    "### Extracting and loading data into the database\n"
   ]
  },
  {
   "cell_type": "code",
   "execution_count": 4,
   "metadata": {},
   "outputs": [
    {
     "data": {
      "text/plain": [
       "64"
      ]
     },
     "execution_count": 4,
     "metadata": {},
     "output_type": "execute_result"
    }
   ],
   "source": [
    "df_listing = pd.read_parquet(\"raw/listings.parquet.gz\")\n",
    "df_listing.head(500).to_sql('Listing_Bronze', engine,\n",
    "                            if_exists='replace', index=False)"
   ]
  },
  {
   "cell_type": "code",
   "execution_count": 5,
   "metadata": {},
   "outputs": [
    {
     "data": {
      "text/plain": [
       "500"
      ]
     },
     "execution_count": 5,
     "metadata": {},
     "output_type": "execute_result"
    }
   ],
   "source": [
    "df_reviews = pd.read_parquet(\"raw/reviews.parquet.gz\")\n",
    "df_reviews.head(500).to_sql('Reviews_Bronze', engine,\n",
    "                            if_exists='replace', index=False)"
   ]
  },
  {
   "cell_type": "code",
   "execution_count": 6,
   "metadata": {},
   "outputs": [
    {
     "data": {
      "text/plain": [
       "500"
      ]
     },
     "execution_count": 6,
     "metadata": {},
     "output_type": "execute_result"
    }
   ],
   "source": [
    "df_calendar = pd.read_parquet(\"raw/calendar.parquet.gz\")\n",
    "df_calendar.head(500).to_sql('Calendar_Bronze', engine,\n",
    "                             if_exists='replace', index=False)"
   ]
  }
 ],
 "metadata": {
  "kernelspec": {
   "display_name": "Python 3",
   "language": "python",
   "name": "python3"
  },
  "language_info": {
   "codemirror_mode": {
    "name": "ipython",
    "version": 3
   },
   "file_extension": ".py",
   "mimetype": "text/x-python",
   "name": "python",
   "nbconvert_exporter": "python",
   "pygments_lexer": "ipython3",
   "version": "3.9.18"
  }
 },
 "nbformat": 4,
 "nbformat_minor": 2
}
